{
 "cells": [
  {
   "cell_type": "markdown",
   "metadata": {
    "slideshow": {
     "slide_type": "notes"
    }
   },
   "source": [
    "Convert to HTML file via `jupyter nbconvert LT-adversarial-ml.ipynb --to slides`"
   ]
  },
  {
   "cell_type": "markdown",
   "metadata": {
    "slideshow": {
     "slide_type": "notes"
    }
   },
   "source": [
    "Resources\n",
    "\n",
    "- Edsger W. Dijkstra: Why numbering should start at zero: https://www.cs.utexas.edu/users/EWD/transcriptions/EWD08xx/EWD831.html\n",
    "- Fluent Python, page 36"
   ]
  },
  {
   "cell_type": "markdown",
   "metadata": {
    "slideshow": {
     "slide_type": "slide"
    }
   },
   "source": [
    "# Indices are fence posts\n",
    "\n",
    "Indexing, R vs. Python\n",
    "\n",
    "*Alexander Engelhardt*"
   ]
  },
  {
   "cell_type": "markdown",
   "metadata": {
    "slideshow": {
     "slide_type": "slide"
    }
   },
   "source": [
    "# Which indices will extract this substring?"
   ]
  },
  {
   "cell_type": "code",
   "execution_count": null,
   "metadata": {
    "slideshow": {
     "slide_type": "-"
    }
   },
   "outputs": [],
   "source": [
    "x = \"HELLO\"\n",
    "x[?:?] == \"ELL\""
   ]
  },
  {
   "cell_type": "markdown",
   "metadata": {
    "slideshow": {
     "slide_type": "notes"
    }
   },
   "source": [
    "- By show of hands, who'd bet 50€ on having the correct answer?\n",
    "- (Who'd bet their life vs. 50€?)"
   ]
  },
  {
   "cell_type": "markdown",
   "metadata": {
    "slideshow": {
     "slide_type": "slide"
    }
   },
   "source": [
    "# R vs. Python\n",
    "\n",
    "![r vs python](img/obo-r-vs-python.png)\n",
    "\n",
    "There are four ways to represent 1, 2, 3, 4, 5:\n",
    "\n",
    "\n",
    "- $1 \\leq i < 6$ (the Python way)\n",
    "- $1 \\leq i \\leq 5$ (the R way)\n",
    "- $0 < i < 6$\n",
    "- $0 < i \\leq 5$\n",
    "\n",
    "\n",
    "----\n",
    "\n",
    "Edsger W. Dijkstra: Why numbering should start at zero: https://www.cs.utexas.edu/users/EWD/transcriptions/EWD08xx/EWD831.html"
   ]
  },
  {
   "cell_type": "markdown",
   "metadata": {
    "slideshow": {
     "slide_type": "notes"
    }
   },
   "source": [
    "- R uses b) 1:5, Python uses a) list(range(1, 6))\n",
    "- c) and d) are ugly because we'd go into negative numbers when we actually want to index from 0\n",
    "- But: *why is the last element not included?*"
   ]
  },
  {
   "cell_type": "markdown",
   "metadata": {
    "slideshow": {
     "slide_type": "slide"
    }
   },
   "source": [
    "# How I remember it:\n",
    "\n",
    "## Indices are fence posts!\n",
    "\n",
    "![indexing](img/obo-indexing.png)\n",
    "\n"
   ]
  },
  {
   "cell_type": "markdown",
   "metadata": {
    "slideshow": {
     "slide_type": "notes"
    }
   },
   "source": [
    "- Think of indices as *fence posts*\n",
    "- And this answers *Why the last element is not included*: The indices\n",
    "  don't refer to  elements, but boundaries/fence posts!\n",
    "- Example: The \"1\" does not refer to the \"E\", nor does it refer to the \"L\".\n",
    "  It refers to the /space/ between E and L\n",
    "- The indices don't refer to elements, but boundaries/fence posts!\n",
    "  /* repeat the message */\n",
    "- This way (method a instead of b), you can index an empty sequence with x[0:0], with b) you'd have to index x[0:-1]\n",
    "- Another nice side effect: len(x) == b - a, i.e. 7-2=5: 2,3,4,5,6"
   ]
  },
  {
   "cell_type": "code",
   "execution_count": null,
   "metadata": {
    "slideshow": {
     "slide_type": "slide"
    }
   },
   "outputs": [],
   "source": [
    "x = \"abcde\"\n",
    "x[_:_] == \"cd\""
   ]
  },
  {
   "cell_type": "markdown",
   "metadata": {
    "slideshow": {
     "slide_type": "notes"
    }
   },
   "source": [
    "- Who would bet 50€ now?\n",
    "- Who'd bet their life vs. 50€ now?\n"
   ]
  },
  {
   "cell_type": "code",
   "execution_count": 9,
   "metadata": {
    "slideshow": {
     "slide_type": "fragment"
    }
   },
   "outputs": [
    {
     "data": {
      "text/plain": [
       "'cd'"
      ]
     },
     "execution_count": 9,
     "metadata": {},
     "output_type": "execute_result"
    }
   ],
   "source": [
    "x = 'abcde'\n",
    "x[2:4]"
   ]
  },
  {
   "cell_type": "markdown",
   "metadata": {
    "slideshow": {
     "slide_type": "-"
    }
   },
   "source": [
    "Remember: Indices are fence posts!"
   ]
  },
  {
   "cell_type": "markdown",
   "metadata": {
    "slideshow": {
     "slide_type": "slide"
    }
   },
   "source": [
    "# Thanks!"
   ]
  }
 ],
 "metadata": {
  "celltoolbar": "Slideshow",
  "kernelspec": {
   "display_name": "Python 3",
   "language": "python",
   "name": "python3"
  },
  "language_info": {
   "codemirror_mode": {
    "name": "ipython",
    "version": 3
   },
   "file_extension": ".py",
   "mimetype": "text/x-python",
   "name": "python",
   "nbconvert_exporter": "python",
   "pygments_lexer": "ipython3",
   "version": "3.6.9"
  }
 },
 "nbformat": 4,
 "nbformat_minor": 2
}
